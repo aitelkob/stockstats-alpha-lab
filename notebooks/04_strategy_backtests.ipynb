{
  "cells": [
    {
      "cell_type": "markdown",
      "metadata": {},
      "source": [
        "# 04 - Strategy Backtests\n",
        "\n",
        "This notebook demonstrates comprehensive strategy backtesting with transaction costs and risk controls, including:\n",
        "- RSI + Trend filter strategy\n",
        "- MACD crossover with volatility sizing\n",
        "- Vectorized backtesting with realistic costs\n",
        "- Performance metrics and risk analysis\n",
        "- Strategy comparison and stress testing\n",
        "\n",
        "## Key Features\n",
        "- **Realistic costs**: Bid-ask spread, commissions, slippage\n",
        "- **Risk controls**: Position limits, volatility sizing\n",
        "- **Multiple strategies**: Easy to implement and compare\n",
        "- **Comprehensive metrics**: Sharpe, Sortino, Calmar, drawdown analysis\n"
      ]
    }
  ],
  "metadata": {
    "language_info": {
      "name": "python"
    }
  },
  "nbformat": 4,
  "nbformat_minor": 2
}
