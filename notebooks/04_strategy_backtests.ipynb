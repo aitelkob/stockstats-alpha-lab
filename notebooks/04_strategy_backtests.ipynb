{
 "cells": [
  {
   "cell_type": "markdown",
   "metadata": {},
   "source": [
    "# 04 - Strategy Backtests\n",
    "\n",
    "This notebook demonstrates comprehensive strategy backtesting with transaction costs and risk controls, including:\n",
    "- RSI + Trend filter strategy\n",
    "- MACD crossover with volatility sizing\n",
    "- Vectorized backtesting with realistic costs\n",
    "- Performance metrics and risk analysis\n",
    "- Strategy comparison and stress testing\n",
    "\n",
    "## Key Features\n",
    "- **Realistic costs**: Bid-ask spread, commissions, slippage\n",
    "- **Risk controls**: Position limits, volatility sizing\n",
    "- **Multiple strategies**: Easy to implement and compare\n",
    "- **Comprehensive metrics**: Sharpe, Sortino, Calmar, drawdown analysis\n"
   ]
  },
  {
   "cell_type": "code",
   "execution_count": null,
   "metadata": {},
   "outputs": [],
   "source": []
  }
 ],
 "metadata": {
  "kernelspec": {
   "display_name": "Python 3 (ipykernel)",
   "language": "python",
   "name": "python3"
  },
  "language_info": {
   "codemirror_mode": {
    "name": "ipython",
    "version": 3
   },
   "file_extension": ".py",
   "mimetype": "text/x-python",
   "name": "python",
   "nbconvert_exporter": "python",
   "pygments_lexer": "ipython3",
   "version": "3.13.3"
  }
 },
 "nbformat": 4,
 "nbformat_minor": 4
}
