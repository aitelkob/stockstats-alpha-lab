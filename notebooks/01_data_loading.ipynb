{
 "cells": [
  {
   "cell_type": "markdown",
   "metadata": {},
   "source": [
    "# 01 - Data Loading and Quality Assessment\n",
    "\n",
    "This notebook demonstrates the data loading capabilities of the stockstats alpha lab, including:\n",
    "- Loading OHLCV data from multiple sources\n",
    "- Data quality validation\n",
    "- Basic exploratory data analysis\n",
    "\n",
    "## Key Features\n",
    "- **yfinance integration**: Clean interface for loading stock data\n",
    "- **Data validation**: Automatic quality checks for OHLCV data\n",
    "- **Multi-ticker support**: Batch loading with progress tracking\n",
    "- **Error handling**: Robust error handling for missing data\n"
   ]
  },
  {
   "cell_type": "code",
   "execution_count": 1,
   "metadata": {},
   "outputs": [],
   "source": [
    "# Import required libraries\n",
    "import sys\n",
    "import os\n",
    "sys.path.append('../src')\n",
    "\n",
    "import pandas as pd\n",
    "import numpy as np\n",
    "import matplotlib.pyplot as plt\n",
    "import seaborn as sns\n",
    "from datetime import datetime, timedelta\n",
    "\n",
    "# Import our modules\n",
    "from data import DataLoader, get_sample_tickers, validate_data_quality\n",
    "\n",
    "# Set up plotting\n",
    "plt.style.use('seaborn-v0_8')\n",
    "sns.set_palette(\"husl\")\n",
    "%matplotlib inline\n"
   ]
  },
  {
   "cell_type": "markdown",
   "metadata": {},
   "source": [
    "## 1. Initialize Data Loader\n",
    "\n",
    "The `DataLoader` class provides a clean interface for loading financial data from various sources.\n"
   ]
  },
  {
   "cell_type": "code",
   "execution_count": 2,
   "metadata": {},
   "outputs": [
    {
     "name": "stdout",
     "output_type": "stream",
     "text": [
      "Sample tickers: ['AAPL', 'MSFT', 'GOOGL', 'AMZN', 'TSLA', 'JPM', 'BAC', 'WFC', 'GS', 'MS']\n"
     ]
    }
   ],
   "source": [
    "# Initialize data loader\n",
    "loader = DataLoader(source=\"yfinance\")\n",
    "\n",
    "# Get sample tickers for demonstration\n",
    "sample_tickers = get_sample_tickers()\n",
    "print(f\"Sample tickers: {sample_tickers[:10]}\")  # Show first 10\n"
   ]
  }
 ],
 "metadata": {
  "kernelspec": {
   "display_name": "Python 3 (ipykernel)",
   "language": "python",
   "name": "python3"
  },
  "language_info": {
   "codemirror_mode": {
    "name": "ipython",
    "version": 3
   },
   "file_extension": ".py",
   "mimetype": "text/x-python",
   "name": "python",
   "nbconvert_exporter": "python",
   "pygments_lexer": "ipython3",
   "version": "3.13.3"
  }
 },
 "nbformat": 4,
 "nbformat_minor": 4
}
