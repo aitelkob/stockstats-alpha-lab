{
  "cells": [
    {
      "cell_type": "markdown",
      "metadata": {},
      "source": [
        "# 01 - Data Loading and Quality Assessment\n",
        "\n",
        "This notebook demonstrates the data loading capabilities of the stockstats alpha lab, including:\n",
        "- Loading OHLCV data from multiple sources\n",
        "- Data quality validation\n",
        "- Basic exploratory data analysis\n",
        "\n",
        "## Key Features\n",
        "- **yfinance integration**: Clean interface for loading stock data\n",
        "- **Data validation**: Automatic quality checks for OHLCV data\n",
        "- **Multi-ticker support**: Batch loading with progress tracking\n",
        "- **Error handling**: Robust error handling for missing data\n"
      ]
    },
    {
      "cell_type": "code",
      "execution_count": null,
      "metadata": {},
      "outputs": [],
      "source": [
        "# Import required libraries\n",
        "import sys\n",
        "import os\n",
        "sys.path.append('../src')\n",
        "\n",
        "import pandas as pd\n",
        "import numpy as np\n",
        "import matplotlib.pyplot as plt\n",
        "import seaborn as sns\n",
        "from datetime import datetime, timedelta\n",
        "\n",
        "# Import our modules\n",
        "from data import DataLoader, get_sample_tickers, validate_data_quality\n",
        "\n",
        "# Set up plotting\n",
        "plt.style.use('seaborn-v0_8')\n",
        "sns.set_palette(\"husl\")\n",
        "%matplotlib inline\n"
      ]
    },
    {
      "cell_type": "markdown",
      "metadata": {},
      "source": [
        "## 1. Initialize Data Loader\n",
        "\n",
        "The `DataLoader` class provides a clean interface for loading financial data from various sources.\n"
      ]
    },
    {
      "cell_type": "code",
      "execution_count": null,
      "metadata": {},
      "outputs": [],
      "source": [
        "# Initialize data loader\n",
        "loader = DataLoader(source=\"yfinance\")\n",
        "\n",
        "# Get sample tickers for demonstration\n",
        "sample_tickers = get_sample_tickers()\n",
        "print(f\"Sample tickers: {sample_tickers[:10]}\")  # Show first 10\n"
      ]
    }
  ],
  "metadata": {
    "language_info": {
      "name": "python"
    }
  },
  "nbformat": 4,
  "nbformat_minor": 2
}
