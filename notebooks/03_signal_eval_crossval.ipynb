{
  "cells": [
    {
      "cell_type": "markdown",
      "metadata": {},
      "source": [
        "# 03 - Signal Evaluation and Cross-Validation\n",
        "\n",
        "This notebook demonstrates rigorous signal evaluation using time-series aware cross-validation, including:\n",
        "- Forward return labeling with proper time discipline\n",
        "- Triple-barrier labeling for classification\n",
        "- Walk-forward cross-validation\n",
        "- Information Coefficient analysis\n",
        "- Model performance evaluation\n",
        "\n",
        "## Key Features\n",
        "- **Time-series discipline**: No look-ahead bias in labeling\n",
        "- **Multiple labeling schemes**: Forward returns, triple-barrier, regime-based\n",
        "- **Walk-forward CV**: Proper time-series cross-validation\n",
        "- **IC analysis**: Rank correlation between features and targets\n"
      ]
    }
  ],
  "metadata": {
    "language_info": {
      "name": "python"
    }
  },
  "nbformat": 4,
  "nbformat_minor": 2
}
