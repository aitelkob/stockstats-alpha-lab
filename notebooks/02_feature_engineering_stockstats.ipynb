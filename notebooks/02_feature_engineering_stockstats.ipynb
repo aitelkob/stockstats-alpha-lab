{
 "cells": [
  {
   "cell_type": "markdown",
   "metadata": {},
   "source": [
    "# 02 - Feature Engineering with StockStats\n",
    "\n",
    "This notebook demonstrates the core feature engineering capabilities using stockstats, including:\n",
    "- Adding technical indicators with stockstats\n",
    "- Validating indicator calculations\n",
    "- Creating comprehensive feature matrices\n",
    "- Information Coefficient analysis\n",
    "\n",
    "## Key Features\n",
    "- **One-line indicators**: `df['rsi_14']`, `df['macd']`, `df['close_10_ema']`\n",
    "- **50+ indicators**: Trend, momentum, volatility, volume, oscillators\n",
    "- **Validation**: Cross-checking against reference implementations\n",
    "- **Feature selection**: IC-based ranking of predictive power\n"
   ]
  },
  {
   "cell_type": "code",
   "execution_count": 1,
   "metadata": {},
   "outputs": [],
   "source": [
    "# Import required libraries\n",
    "import sys\n",
    "import os\n",
    "sys.path.append('../src')\n",
    "\n",
    "import pandas as pd\n",
    "import numpy as np\n",
    "import matplotlib.pyplot as plt\n",
    "import seaborn as sns\n",
    "from datetime import datetime\n",
    "\n",
    "# Import our modules\n",
    "from data import DataLoader\n",
    "from indicators import (\n",
    "    add_basic_indicators, \n",
    "    add_comprehensive_indicators,\n",
    "    IndicatorEngine,\n",
    "    validate_indicators_against_reference,\n",
    "    get_indicator_categories\n",
    ")\n",
    "\n",
    "# Set up plotting\n",
    "plt.style.use('seaborn-v0_8')\n",
    "sns.set_palette(\"husl\")\n",
    "%matplotlib inline\n"
   ]
  }
 ],
 "metadata": {
  "kernelspec": {
   "display_name": "Python 3 (ipykernel)",
   "language": "python",
   "name": "python3"
  },
  "language_info": {
   "codemirror_mode": {
    "name": "ipython",
    "version": 3
   },
   "file_extension": ".py",
   "mimetype": "text/x-python",
   "name": "python",
   "nbconvert_exporter": "python",
   "pygments_lexer": "ipython3",
   "version": "3.13.3"
  }
 },
 "nbformat": 4,
 "nbformat_minor": 4
}
